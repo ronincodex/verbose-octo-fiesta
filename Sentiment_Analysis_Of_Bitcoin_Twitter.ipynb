{
  "nbformat": 4,
  "nbformat_minor": 0,
  "metadata": {
    "colab": {
      "name": "Untitled2.ipynb",
      "provenance": [],
      "collapsed_sections": [],
      "history_visible": true,
      "authorship_tag": "ABX9TyNvCYCFON6LCXi2MibM15BM",
      "include_colab_link": true
    },
    "kernelspec": {
      "name": "python3",
      "display_name": "Python 3"
    },
    "language_info": {
      "name": "python"
    }
  },
  "cells": [
    {
      "cell_type": "markdown",
      "metadata": {
        "id": "view-in-github",
        "colab_type": "text"
      },
      "source": [
        "<a href=\"https://colab.research.google.com/github/ronincodex/verbose-octo-fiesta/blob/master/Sentiment_Analysis_Of_Bitcoin_Twitter.ipynb\" target=\"_parent\"><img src=\"https://colab.research.google.com/assets/colab-badge.svg\" alt=\"Open In Colab\"/></a>"
      ]
    },
    {
      "cell_type": "code",
      "metadata": {
        "id": "FdETzNL9cUQQ"
      },
      "source": [
        "#Description:This program take the sentiment of Bitcoin from Twitter users"
      ],
      "execution_count": 1,
      "outputs": []
    },
    {
      "cell_type": "code",
      "metadata": {
        "id": "Hfil7DhjjBz_"
      },
      "source": [
        "#Importing librarires\n",
        "import tweepy\n",
        "from textblob import TextBlob\n",
        "import pandas as pd\n",
        "import numpy as np\n",
        "import re\n",
        "import matplotlib.pyplot as plt\n",
        "plt.style.use('fivethirtyeight')"
      ],
      "execution_count": 4,
      "outputs": []
    },
    {
      "cell_type": "code",
      "metadata": {
        "colab": {
          "resources": {
            "http://localhost:8080/nbextensions/google.colab/files.js": {
              "data": "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",
              "ok": true,
              "headers": [
                [
                  "content-type",
                  "application/javascript"
                ]
              ],
              "status": 200,
              "status_text": ""
            }
          },
          "base_uri": "https://localhost:8080/",
          "height": 109
        },
        "id": "4075bpNeqEOY",
        "outputId": "235688f7-f663-4830-acf9-81c4922cf3be"
      },
      "source": [
        "#Uplaod the login files\n",
        "from google.colab import files\n",
        "files.upload()"
      ],
      "execution_count": 20,
      "outputs": [
        {
          "output_type": "display_data",
          "data": {
            "text/html": [
              "\n",
              "     <input type=\"file\" id=\"files-2adb45bd-748d-4a5f-89b4-6fa3421f55b6\" name=\"files[]\" multiple disabled\n",
              "        style=\"border:none\" />\n",
              "     <output id=\"result-2adb45bd-748d-4a5f-89b4-6fa3421f55b6\">\n",
              "      Upload widget is only available when the cell has been executed in the\n",
              "      current browser session. Please rerun this cell to enable.\n",
              "      </output>\n",
              "      <script src=\"/nbextensions/google.colab/files.js\"></script> "
            ],
            "text/plain": [
              "<IPython.core.display.HTML object>"
            ]
          },
          "metadata": {
            "tags": []
          }
        },
        {
          "output_type": "stream",
          "text": [
            "Saving NewLogin.csv to NewLogin.csv\n"
          ],
          "name": "stdout"
        },
        {
          "output_type": "execute_result",
          "data": {
            "text/plain": [
              "{'NewLogin.csv': b'\"key\"\\n\"GN514XEaObUTQUoBKZm5Tagu9\"\\n\"eU3AW2BaumxYRAnKRQk6P5wqhjI0llQXyLLkbpSSo5EuoB0zpz\"\\n\"1141913556071268353-1lpF6wXmJ8YKZTKTeQ12ag0gSf9K1Z\"\\n\"2dLukpJSrmr01RRgCITMb1oYhKtgrceX7ladtae1fGeus\"\\n'}"
            ]
          },
          "metadata": {
            "tags": []
          },
          "execution_count": 20
        }
      ]
    },
    {
      "cell_type": "code",
      "metadata": {
        "id": "6e5yd_Ngse7R"
      },
      "source": [
        "#Store the data\n",
        "log = pd.read_csv('NewLogin.csv')"
      ],
      "execution_count": 21,
      "outputs": []
    },
    {
      "cell_type": "code",
      "metadata": {
        "id": "0UkwCdyysrTh"
      },
      "source": [
        "#Get the Twitter API credentials\n",
        "consumerKey = log[\"key\"][0]\n",
        "consumerSecret = log[\"key\"][1]\n",
        "accessToken = log[\"key\"][2]\n",
        "accessTokenSecret = log[\"key\"][3]"
      ],
      "execution_count": 24,
      "outputs": []
    },
    {
      "cell_type": "code",
      "metadata": {
        "id": "S6gJcQu9x26o"
      },
      "source": [
        "#Create authentication object\n",
        "authenticate = tweepy.OAuthHandler(consumerKey, consumerSecret)\n",
        "#Set access token and the access token secret\n",
        "authenticate.set_access_token(accessToken, accessTokenSecret)\n",
        "#Create the API object\n",
        "api = tweepy.API(authenticate, wait_on_rate_limit=True)"
      ],
      "execution_count": 26,
      "outputs": []
    },
    {
      "cell_type": "code",
      "metadata": {
        "id": "VKdHC89Zzp_s"
      },
      "source": [
        "#Gather 5000 tweets about Bitcoin\n",
        "search_term = '#bitcoin -filter:retweets'\n",
        "#create cursor object\n",
        "tweets = tweepy.Cursor(api.search, q=search_term, lang='en', since= '2019-02-01', tweet_mode= 'extended').items(5000)\n",
        "#Store the tweets in a variable and get full text\n",
        "all_tweets = [tweet.full_text for tweet in tweets]"
      ],
      "execution_count": 32,
      "outputs": []
    },
    {
      "cell_type": "code",
      "metadata": {
        "colab": {
          "base_uri": "https://localhost:8080/",
          "height": 669
        },
        "id": "YELGomjYUTOo",
        "outputId": "f8ecaf49-ce4e-4f35-8160-1b2bc2e1c528"
      },
      "source": [
        "# Create a dataframe to store the tweets with a column called 'Tweets'\n",
        "df = pd.DataFrame(all_tweets, columns=['Tweets'])\n",
        "#Show the 1st  20 rows of Twitter data\n",
        "df.head(20)"
      ],
      "execution_count": 51,
      "outputs": [
        {
          "output_type": "execute_result",
          "data": {
            "text/html": [
              "<div>\n",
              "<style scoped>\n",
              "    .dataframe tbody tr th:only-of-type {\n",
              "        vertical-align: middle;\n",
              "    }\n",
              "\n",
              "    .dataframe tbody tr th {\n",
              "        vertical-align: top;\n",
              "    }\n",
              "\n",
              "    .dataframe thead th {\n",
              "        text-align: right;\n",
              "    }\n",
              "</style>\n",
              "<table border=\"1\" class=\"dataframe\">\n",
              "  <thead>\n",
              "    <tr style=\"text-align: right;\">\n",
              "      <th></th>\n",
              "      <th>Tweets</th>\n",
              "    </tr>\n",
              "  </thead>\n",
              "  <tbody>\n",
              "    <tr>\n",
              "      <th>0</th>\n",
              "      <td>It's good to hear that many communities joinin...</td>\n",
              "    </tr>\n",
              "    <tr>\n",
              "      <th>1</th>\n",
              "      <td>.: Brazil’s First Bitcoin ETF Raises $112 Mill...</td>\n",
              "    </tr>\n",
              "    <tr>\n",
              "      <th>2</th>\n",
              "      <td>@xircusNFT Strong team with a great project. I...</td>\n",
              "    </tr>\n",
              "    <tr>\n",
              "      <th>3</th>\n",
              "      <td>$EFIR Egpi Firecreek \\n\\n💥https://t.co/laXeMyT...</td>\n",
              "    </tr>\n",
              "    <tr>\n",
              "      <th>4</th>\n",
              "      <td>@open4profit Dead cat Bounce🥴 #Bitcoin https:/...</td>\n",
              "    </tr>\n",
              "    <tr>\n",
              "      <th>5</th>\n",
              "      <td>5 New Cryptocurrency Exchanges To Consider htt...</td>\n",
              "    </tr>\n",
              "    <tr>\n",
              "      <th>6</th>\n",
              "      <td>#crypto #bitcoin #ethereum #cardano #ripple #d...</td>\n",
              "    </tr>\n",
              "    <tr>\n",
              "      <th>7</th>\n",
              "      <td>Gold/USD pair: Love it or hate it but does it ...</td>\n",
              "    </tr>\n",
              "    <tr>\n",
              "      <th>8</th>\n",
              "      <td>@Next100XGEMS @FEGtoken @Ste_Cha_FEG ❤Promisin...</td>\n",
              "    </tr>\n",
              "    <tr>\n",
              "      <th>9</th>\n",
              "      <td>$BTC A big chance in a billion! Price: \\445617...</td>\n",
              "    </tr>\n",
              "    <tr>\n",
              "      <th>10</th>\n",
              "      <td>@Next100XGEMS @FEGtoken @Ste_Cha_FEG 💟💚💟💚💟💚💟💚💟...</td>\n",
              "    </tr>\n",
              "    <tr>\n",
              "      <th>11</th>\n",
              "      <td>@TeddlyBsc I joined this Airdrop to help suppo...</td>\n",
              "    </tr>\n",
              "    <tr>\n",
              "      <th>12</th>\n",
              "      <td>@GaryGensler @SECGov When #bitcoin etf?</td>\n",
              "    </tr>\n",
              "    <tr>\n",
              "      <th>13</th>\n",
              "      <td>#Beautiful #Colourful #unique circles of #powe...</td>\n",
              "    </tr>\n",
              "    <tr>\n",
              "      <th>14</th>\n",
              "      <td>#crypto #bitcoin #ethereum #cardano #ripple #d...</td>\n",
              "    </tr>\n",
              "    <tr>\n",
              "      <th>15</th>\n",
              "      <td>#BREAKING #BreakingNews #SEC is comprised. Now...</td>\n",
              "    </tr>\n",
              "    <tr>\n",
              "      <th>16</th>\n",
              "      <td>@Next100XGEMS @FEGtoken @Ste_Cha_FEG ❤🧡💛🦍❤🧡💛\\n...</td>\n",
              "    </tr>\n",
              "    <tr>\n",
              "      <th>17</th>\n",
              "      <td>#Bitcoin goes on a 33% price increase from the...</td>\n",
              "    </tr>\n",
              "    <tr>\n",
              "      <th>18</th>\n",
              "      <td>There is!🏆 I chose the lucky cell and won 85 B...</td>\n",
              "    </tr>\n",
              "    <tr>\n",
              "      <th>19</th>\n",
              "      <td>@ApesCharity I think this is a good project wi...</td>\n",
              "    </tr>\n",
              "  </tbody>\n",
              "</table>\n",
              "</div>"
            ],
            "text/plain": [
              "                                               Tweets\n",
              "0   It's good to hear that many communities joinin...\n",
              "1   .: Brazil’s First Bitcoin ETF Raises $112 Mill...\n",
              "2   @xircusNFT Strong team with a great project. I...\n",
              "3   $EFIR Egpi Firecreek \\n\\n💥https://t.co/laXeMyT...\n",
              "4   @open4profit Dead cat Bounce🥴 #Bitcoin https:/...\n",
              "5   5 New Cryptocurrency Exchanges To Consider htt...\n",
              "6   #crypto #bitcoin #ethereum #cardano #ripple #d...\n",
              "7   Gold/USD pair: Love it or hate it but does it ...\n",
              "8   @Next100XGEMS @FEGtoken @Ste_Cha_FEG ❤Promisin...\n",
              "9   $BTC A big chance in a billion! Price: \\445617...\n",
              "10  @Next100XGEMS @FEGtoken @Ste_Cha_FEG 💟💚💟💚💟💚💟💚💟...\n",
              "11  @TeddlyBsc I joined this Airdrop to help suppo...\n",
              "12            @GaryGensler @SECGov When #bitcoin etf?\n",
              "13  #Beautiful #Colourful #unique circles of #powe...\n",
              "14  #crypto #bitcoin #ethereum #cardano #ripple #d...\n",
              "15  #BREAKING #BreakingNews #SEC is comprised. Now...\n",
              "16  @Next100XGEMS @FEGtoken @Ste_Cha_FEG ❤🧡💛🦍❤🧡💛\\n...\n",
              "17  #Bitcoin goes on a 33% price increase from the...\n",
              "18  There is!🏆 I chose the lucky cell and won 85 B...\n",
              "19  @ApesCharity I think this is a good project wi..."
            ]
          },
          "metadata": {
            "tags": []
          },
          "execution_count": 51
        }
      ]
    },
    {
      "cell_type": "code",
      "metadata": {
        "id": "vJweDU6TVRiH"
      },
      "source": [
        "#Create a function to clean the tweets\n",
        "def cleanTwt(twt):\n",
        "  twt = re.sub('#bitcoin', 'bitcoin', twt) # Removes the '#' from bitcoin\n",
        "  twt = re.sub('#Bitcoin', 'Bitcoin', twt) # Removes the '#' from Bitcoin\n",
        "  twt = re.sub('#[A-Za-z0-9]+', '', twt) #Remove any strings with a '#'\n",
        "  twt = re.sub('\\\\n', '', twt) #Removes the '\\n' string\n",
        "  twt = re.sub('https?:\\/\\/S+', '', twt) #Removes any hyperlinks\n",
        "  twt = re.sub(':', '', twt) #Removes ':' from string\n",
        "  twt = re.sub('@', '', twt) #Removes '@' from string\n",
        "  return twt"
      ],
      "execution_count": 48,
      "outputs": []
    },
    {
      "cell_type": "code",
      "metadata": {
        "colab": {
          "base_uri": "https://localhost:8080/",
          "height": 669
        },
        "id": "tDHCb4AoYPYl",
        "outputId": "12f5c33b-e765-4df4-d2e0-7114f26c8172"
      },
      "source": [
        "#Clean the tweets\n",
        "df['Cleaned_Tweets'] = df['Tweets'].apply(cleanTwt)\n",
        "#Show the data set\n",
        "df.head(20)"
      ],
      "execution_count": 52,
      "outputs": [
        {
          "output_type": "execute_result",
          "data": {
            "text/html": [
              "<div>\n",
              "<style scoped>\n",
              "    .dataframe tbody tr th:only-of-type {\n",
              "        vertical-align: middle;\n",
              "    }\n",
              "\n",
              "    .dataframe tbody tr th {\n",
              "        vertical-align: top;\n",
              "    }\n",
              "\n",
              "    .dataframe thead th {\n",
              "        text-align: right;\n",
              "    }\n",
              "</style>\n",
              "<table border=\"1\" class=\"dataframe\">\n",
              "  <thead>\n",
              "    <tr style=\"text-align: right;\">\n",
              "      <th></th>\n",
              "      <th>Tweets</th>\n",
              "      <th>Cleaned_Tweets</th>\n",
              "    </tr>\n",
              "  </thead>\n",
              "  <tbody>\n",
              "    <tr>\n",
              "      <th>0</th>\n",
              "      <td>It's good to hear that many communities joinin...</td>\n",
              "      <td>It's good to hear that many communities joinin...</td>\n",
              "    </tr>\n",
              "    <tr>\n",
              "      <th>1</th>\n",
              "      <td>.: Brazil’s First Bitcoin ETF Raises $112 Mill...</td>\n",
              "      <td>. Brazil’s First Bitcoin ETF Raises $112 Milli...</td>\n",
              "    </tr>\n",
              "    <tr>\n",
              "      <th>2</th>\n",
              "      <td>@xircusNFT Strong team with a great project. I...</td>\n",
              "      <td>xircusNFT Strong team with a great project. I ...</td>\n",
              "    </tr>\n",
              "    <tr>\n",
              "      <th>3</th>\n",
              "      <td>$EFIR Egpi Firecreek \\n\\n💥https://t.co/laXeMyT...</td>\n",
              "      <td>$EFIR Egpi Firecreek 💥https//t.co/laXeMyTGKJ  ...</td>\n",
              "    </tr>\n",
              "    <tr>\n",
              "      <th>4</th>\n",
              "      <td>@open4profit Dead cat Bounce🥴 #Bitcoin https:/...</td>\n",
              "      <td>open4profit Dead cat Bounce🥴 Bitcoin https//t....</td>\n",
              "    </tr>\n",
              "    <tr>\n",
              "      <th>5</th>\n",
              "      <td>5 New Cryptocurrency Exchanges To Consider htt...</td>\n",
              "      <td>5 New Cryptocurrency Exchanges To Consider htt...</td>\n",
              "    </tr>\n",
              "    <tr>\n",
              "      <th>6</th>\n",
              "      <td>#crypto #bitcoin #ethereum #cardano #ripple #d...</td>\n",
              "      <td>bitcoin            This group pumped DREP on ...</td>\n",
              "    </tr>\n",
              "    <tr>\n",
              "      <th>7</th>\n",
              "      <td>Gold/USD pair: Love it or hate it but does it ...</td>\n",
              "      <td>Gold/USD pair Love it or hate it but does it l...</td>\n",
              "    </tr>\n",
              "    <tr>\n",
              "      <th>8</th>\n",
              "      <td>@Next100XGEMS @FEGtoken @Ste_Cha_FEG ❤Promisin...</td>\n",
              "      <td>Next100XGEMS FEGtoken Ste_Cha_FEG ❤Promising h...</td>\n",
              "    </tr>\n",
              "    <tr>\n",
              "      <th>9</th>\n",
              "      <td>$BTC A big chance in a billion! Price: \\445617...</td>\n",
              "      <td>$BTC A big chance in a billion! Price \\4456176...</td>\n",
              "    </tr>\n",
              "    <tr>\n",
              "      <th>10</th>\n",
              "      <td>@Next100XGEMS @FEGtoken @Ste_Cha_FEG 💟💚💟💚💟💚💟💚💟...</td>\n",
              "      <td>Next100XGEMS FEGtoken Ste_Cha_FEG 💟💚💟💚💟💚💟💚💟💚💟💚...</td>\n",
              "    </tr>\n",
              "    <tr>\n",
              "      <th>11</th>\n",
              "      <td>@TeddlyBsc I joined this Airdrop to help suppo...</td>\n",
              "      <td>TeddlyBsc I joined this Airdrop to help suppor...</td>\n",
              "    </tr>\n",
              "    <tr>\n",
              "      <th>12</th>\n",
              "      <td>@GaryGensler @SECGov When #bitcoin etf?</td>\n",
              "      <td>GaryGensler SECGov When bitcoin etf?</td>\n",
              "    </tr>\n",
              "    <tr>\n",
              "      <th>13</th>\n",
              "      <td>#Beautiful #Colourful #unique circles of #powe...</td>\n",
              "      <td>circles of  digital art creations enjoy 🔥🔥🔥...</td>\n",
              "    </tr>\n",
              "    <tr>\n",
              "      <th>14</th>\n",
              "      <td>#crypto #bitcoin #ethereum #cardano #ripple #d...</td>\n",
              "      <td>bitcoin            This group pumped DREP on ...</td>\n",
              "    </tr>\n",
              "    <tr>\n",
              "      <th>15</th>\n",
              "      <td>#BREAKING #BreakingNews #SEC is comprised. Now...</td>\n",
              "      <td>is comprised. Now THATS BULLISH!  Bitcoin  ...</td>\n",
              "    </tr>\n",
              "    <tr>\n",
              "      <th>16</th>\n",
              "      <td>@Next100XGEMS @FEGtoken @Ste_Cha_FEG ❤🧡💛🦍❤🧡💛\\n...</td>\n",
              "      <td>Next100XGEMS FEGtoken Ste_Cha_FEG ❤🧡💛🦍❤🧡💛$FEG ...</td>\n",
              "    </tr>\n",
              "    <tr>\n",
              "      <th>17</th>\n",
              "      <td>#Bitcoin goes on a 33% price increase from the...</td>\n",
              "      <td>Bitcoin goes on a 33% price increase from the ...</td>\n",
              "    </tr>\n",
              "    <tr>\n",
              "      <th>18</th>\n",
              "      <td>There is!🏆 I chose the lucky cell and won 85 B...</td>\n",
              "      <td>There is!🏆 I chose the lucky cell and won 85 B...</td>\n",
              "    </tr>\n",
              "    <tr>\n",
              "      <th>19</th>\n",
              "      <td>@ApesCharity I think this is a good project wi...</td>\n",
              "      <td>ApesCharity I think this is a good project wit...</td>\n",
              "    </tr>\n",
              "  </tbody>\n",
              "</table>\n",
              "</div>"
            ],
            "text/plain": [
              "                                               Tweets                                     Cleaned_Tweets\n",
              "0   It's good to hear that many communities joinin...  It's good to hear that many communities joinin...\n",
              "1   .: Brazil’s First Bitcoin ETF Raises $112 Mill...  . Brazil’s First Bitcoin ETF Raises $112 Milli...\n",
              "2   @xircusNFT Strong team with a great project. I...  xircusNFT Strong team with a great project. I ...\n",
              "3   $EFIR Egpi Firecreek \\n\\n💥https://t.co/laXeMyT...  $EFIR Egpi Firecreek 💥https//t.co/laXeMyTGKJ  ...\n",
              "4   @open4profit Dead cat Bounce🥴 #Bitcoin https:/...  open4profit Dead cat Bounce🥴 Bitcoin https//t....\n",
              "5   5 New Cryptocurrency Exchanges To Consider htt...  5 New Cryptocurrency Exchanges To Consider htt...\n",
              "6   #crypto #bitcoin #ethereum #cardano #ripple #d...   bitcoin            This group pumped DREP on ...\n",
              "7   Gold/USD pair: Love it or hate it but does it ...  Gold/USD pair Love it or hate it but does it l...\n",
              "8   @Next100XGEMS @FEGtoken @Ste_Cha_FEG ❤Promisin...  Next100XGEMS FEGtoken Ste_Cha_FEG ❤Promising h...\n",
              "9   $BTC A big chance in a billion! Price: \\445617...  $BTC A big chance in a billion! Price \\4456176...\n",
              "10  @Next100XGEMS @FEGtoken @Ste_Cha_FEG 💟💚💟💚💟💚💟💚💟...  Next100XGEMS FEGtoken Ste_Cha_FEG 💟💚💟💚💟💚💟💚💟💚💟💚...\n",
              "11  @TeddlyBsc I joined this Airdrop to help suppo...  TeddlyBsc I joined this Airdrop to help suppor...\n",
              "12            @GaryGensler @SECGov When #bitcoin etf?               GaryGensler SECGov When bitcoin etf?\n",
              "13  #Beautiful #Colourful #unique circles of #powe...     circles of  digital art creations enjoy 🔥🔥🔥...\n",
              "14  #crypto #bitcoin #ethereum #cardano #ripple #d...   bitcoin            This group pumped DREP on ...\n",
              "15  #BREAKING #BreakingNews #SEC is comprised. Now...     is comprised. Now THATS BULLISH!  Bitcoin  ...\n",
              "16  @Next100XGEMS @FEGtoken @Ste_Cha_FEG ❤🧡💛🦍❤🧡💛\\n...  Next100XGEMS FEGtoken Ste_Cha_FEG ❤🧡💛🦍❤🧡💛$FEG ...\n",
              "17  #Bitcoin goes on a 33% price increase from the...  Bitcoin goes on a 33% price increase from the ...\n",
              "18  There is!🏆 I chose the lucky cell and won 85 B...  There is!🏆 I chose the lucky cell and won 85 B...\n",
              "19  @ApesCharity I think this is a good project wi...  ApesCharity I think this is a good project wit..."
            ]
          },
          "metadata": {
            "tags": []
          },
          "execution_count": 52
        }
      ]
    },
    {
      "cell_type": "code",
      "metadata": {
        "colab": {
          "base_uri": "https://localhost:8080/",
          "height": 204
        },
        "id": "ZPRzWtUKbbRB",
        "outputId": "067c3425-c6bf-4d11-ccea-b69f4c4c4c87"
      },
      "source": [
        "#Create a function to get the subjectivity\n",
        "def getSubjectivity(twt):\n",
        "  return TextBlob(twt).sentiment.subjectivity\n",
        "#Create a function to get the polarity\n",
        "def getPolarity(twt):\n",
        "  return TextBlob(twt).sentiment.polarity\n",
        "\n",
        "#Create two new columns 'Subjectivity' & 'Polarity'\n",
        "df['Subjectivity'] = df['Cleaned_Tweets'].apply(getSubjectivity)\n",
        "df['Polarity'] = df['Cleaned_Tweets'].apply(getPolarity)\n",
        "\n",
        "#Show the data\n",
        "df.head()"
      ],
      "execution_count": 53,
      "outputs": [
        {
          "output_type": "execute_result",
          "data": {
            "text/html": [
              "<div>\n",
              "<style scoped>\n",
              "    .dataframe tbody tr th:only-of-type {\n",
              "        vertical-align: middle;\n",
              "    }\n",
              "\n",
              "    .dataframe tbody tr th {\n",
              "        vertical-align: top;\n",
              "    }\n",
              "\n",
              "    .dataframe thead th {\n",
              "        text-align: right;\n",
              "    }\n",
              "</style>\n",
              "<table border=\"1\" class=\"dataframe\">\n",
              "  <thead>\n",
              "    <tr style=\"text-align: right;\">\n",
              "      <th></th>\n",
              "      <th>Tweets</th>\n",
              "      <th>Cleaned_Tweets</th>\n",
              "      <th>Subjectivity</th>\n",
              "      <th>Polarity</th>\n",
              "    </tr>\n",
              "  </thead>\n",
              "  <tbody>\n",
              "    <tr>\n",
              "      <th>0</th>\n",
              "      <td>It's good to hear that many communities joinin...</td>\n",
              "      <td>It's good to hear that many communities joinin...</td>\n",
              "      <td>0.366667</td>\n",
              "      <td>0.500000</td>\n",
              "    </tr>\n",
              "    <tr>\n",
              "      <th>1</th>\n",
              "      <td>.: Brazil’s First Bitcoin ETF Raises $112 Mill...</td>\n",
              "      <td>. Brazil’s First Bitcoin ETF Raises $112 Milli...</td>\n",
              "      <td>0.333333</td>\n",
              "      <td>0.250000</td>\n",
              "    </tr>\n",
              "    <tr>\n",
              "      <th>2</th>\n",
              "      <td>@xircusNFT Strong team with a great project. I...</td>\n",
              "      <td>xircusNFT Strong team with a great project. I ...</td>\n",
              "      <td>0.758333</td>\n",
              "      <td>0.620833</td>\n",
              "    </tr>\n",
              "    <tr>\n",
              "      <th>3</th>\n",
              "      <td>$EFIR Egpi Firecreek \\n\\n💥https://t.co/laXeMyT...</td>\n",
              "      <td>$EFIR Egpi Firecreek 💥https//t.co/laXeMyTGKJ  ...</td>\n",
              "      <td>0.000000</td>\n",
              "      <td>0.000000</td>\n",
              "    </tr>\n",
              "    <tr>\n",
              "      <th>4</th>\n",
              "      <td>@open4profit Dead cat Bounce🥴 #Bitcoin https:/...</td>\n",
              "      <td>open4profit Dead cat Bounce🥴 Bitcoin https//t....</td>\n",
              "      <td>0.400000</td>\n",
              "      <td>-0.200000</td>\n",
              "    </tr>\n",
              "  </tbody>\n",
              "</table>\n",
              "</div>"
            ],
            "text/plain": [
              "                                              Tweets  ...  Polarity\n",
              "0  It's good to hear that many communities joinin...  ...  0.500000\n",
              "1  .: Brazil’s First Bitcoin ETF Raises $112 Mill...  ...  0.250000\n",
              "2  @xircusNFT Strong team with a great project. I...  ...  0.620833\n",
              "3  $EFIR Egpi Firecreek \\n\\n💥https://t.co/laXeMyT...  ...  0.000000\n",
              "4  @open4profit Dead cat Bounce🥴 #Bitcoin https:/...  ... -0.200000\n",
              "\n",
              "[5 rows x 4 columns]"
            ]
          },
          "metadata": {
            "tags": []
          },
          "execution_count": 53
        }
      ]
    },
    {
      "cell_type": "code",
      "metadata": {
        "id": "MbyN06tUdIYn"
      },
      "source": [
        "#Create a function to get the sentiment text\n",
        "def getSentiment(score):\n",
        "  if score < 0:\n",
        "    return 'Negative'\n",
        "  elif score == 0:\n",
        "    return 'Neutral'\n",
        "  else:\n",
        "    return 'Positive'   "
      ],
      "execution_count": 54,
      "outputs": []
    },
    {
      "cell_type": "code",
      "metadata": {
        "colab": {
          "base_uri": "https://localhost:8080/",
          "height": 720
        },
        "id": "mnV3aDKEdzOV",
        "outputId": "c313d806-ad67-43a3-a6c0-65273eb4031e"
      },
      "source": [
        "#Create a column to store the text sentiment \n",
        "df['Sentiment'] = df['Polarity'].apply(getSentiment)\n",
        "#Show the data\n",
        "df.head(20)"
      ],
      "execution_count": 56,
      "outputs": [
        {
          "output_type": "execute_result",
          "data": {
            "text/html": [
              "<div>\n",
              "<style scoped>\n",
              "    .dataframe tbody tr th:only-of-type {\n",
              "        vertical-align: middle;\n",
              "    }\n",
              "\n",
              "    .dataframe tbody tr th {\n",
              "        vertical-align: top;\n",
              "    }\n",
              "\n",
              "    .dataframe thead th {\n",
              "        text-align: right;\n",
              "    }\n",
              "</style>\n",
              "<table border=\"1\" class=\"dataframe\">\n",
              "  <thead>\n",
              "    <tr style=\"text-align: right;\">\n",
              "      <th></th>\n",
              "      <th>Tweets</th>\n",
              "      <th>Cleaned_Tweets</th>\n",
              "      <th>Subjectivity</th>\n",
              "      <th>Polarity</th>\n",
              "      <th>Sentiment</th>\n",
              "    </tr>\n",
              "  </thead>\n",
              "  <tbody>\n",
              "    <tr>\n",
              "      <th>0</th>\n",
              "      <td>It's good to hear that many communities joinin...</td>\n",
              "      <td>It's good to hear that many communities joinin...</td>\n",
              "      <td>0.366667</td>\n",
              "      <td>0.500000</td>\n",
              "      <td>Positive</td>\n",
              "    </tr>\n",
              "    <tr>\n",
              "      <th>1</th>\n",
              "      <td>.: Brazil’s First Bitcoin ETF Raises $112 Mill...</td>\n",
              "      <td>. Brazil’s First Bitcoin ETF Raises $112 Milli...</td>\n",
              "      <td>0.333333</td>\n",
              "      <td>0.250000</td>\n",
              "      <td>Positive</td>\n",
              "    </tr>\n",
              "    <tr>\n",
              "      <th>2</th>\n",
              "      <td>@xircusNFT Strong team with a great project. I...</td>\n",
              "      <td>xircusNFT Strong team with a great project. I ...</td>\n",
              "      <td>0.758333</td>\n",
              "      <td>0.620833</td>\n",
              "      <td>Positive</td>\n",
              "    </tr>\n",
              "    <tr>\n",
              "      <th>3</th>\n",
              "      <td>$EFIR Egpi Firecreek \\n\\n💥https://t.co/laXeMyT...</td>\n",
              "      <td>$EFIR Egpi Firecreek 💥https//t.co/laXeMyTGKJ  ...</td>\n",
              "      <td>0.000000</td>\n",
              "      <td>0.000000</td>\n",
              "      <td>Neutral</td>\n",
              "    </tr>\n",
              "    <tr>\n",
              "      <th>4</th>\n",
              "      <td>@open4profit Dead cat Bounce🥴 #Bitcoin https:/...</td>\n",
              "      <td>open4profit Dead cat Bounce🥴 Bitcoin https//t....</td>\n",
              "      <td>0.400000</td>\n",
              "      <td>-0.200000</td>\n",
              "      <td>Negative</td>\n",
              "    </tr>\n",
              "    <tr>\n",
              "      <th>5</th>\n",
              "      <td>5 New Cryptocurrency Exchanges To Consider htt...</td>\n",
              "      <td>5 New Cryptocurrency Exchanges To Consider htt...</td>\n",
              "      <td>0.454545</td>\n",
              "      <td>0.136364</td>\n",
              "      <td>Positive</td>\n",
              "    </tr>\n",
              "    <tr>\n",
              "      <th>6</th>\n",
              "      <td>#crypto #bitcoin #ethereum #cardano #ripple #d...</td>\n",
              "      <td>bitcoin            This group pumped DREP on ...</td>\n",
              "      <td>0.000000</td>\n",
              "      <td>0.000000</td>\n",
              "      <td>Neutral</td>\n",
              "    </tr>\n",
              "    <tr>\n",
              "      <th>7</th>\n",
              "      <td>Gold/USD pair: Love it or hate it but does it ...</td>\n",
              "      <td>Gold/USD pair Love it or hate it but does it l...</td>\n",
              "      <td>0.833333</td>\n",
              "      <td>0.066667</td>\n",
              "      <td>Positive</td>\n",
              "    </tr>\n",
              "    <tr>\n",
              "      <th>8</th>\n",
              "      <td>@Next100XGEMS @FEGtoken @Ste_Cha_FEG ❤Promisin...</td>\n",
              "      <td>Next100XGEMS FEGtoken Ste_Cha_FEG ❤Promising h...</td>\n",
              "      <td>0.675000</td>\n",
              "      <td>0.400000</td>\n",
              "      <td>Positive</td>\n",
              "    </tr>\n",
              "    <tr>\n",
              "      <th>9</th>\n",
              "      <td>$BTC A big chance in a billion! Price: \\445617...</td>\n",
              "      <td>$BTC A big chance in a billion! Price \\4456176...</td>\n",
              "      <td>0.100000</td>\n",
              "      <td>0.000000</td>\n",
              "      <td>Neutral</td>\n",
              "    </tr>\n",
              "    <tr>\n",
              "      <th>10</th>\n",
              "      <td>@Next100XGEMS @FEGtoken @Ste_Cha_FEG 💟💚💟💚💟💚💟💚💟...</td>\n",
              "      <td>Next100XGEMS FEGtoken Ste_Cha_FEG 💟💚💟💚💟💚💟💚💟💚💟💚...</td>\n",
              "      <td>0.000000</td>\n",
              "      <td>0.000000</td>\n",
              "      <td>Neutral</td>\n",
              "    </tr>\n",
              "    <tr>\n",
              "      <th>11</th>\n",
              "      <td>@TeddlyBsc I joined this Airdrop to help suppo...</td>\n",
              "      <td>TeddlyBsc I joined this Airdrop to help suppor...</td>\n",
              "      <td>0.000000</td>\n",
              "      <td>0.000000</td>\n",
              "      <td>Neutral</td>\n",
              "    </tr>\n",
              "    <tr>\n",
              "      <th>12</th>\n",
              "      <td>@GaryGensler @SECGov When #bitcoin etf?</td>\n",
              "      <td>GaryGensler SECGov When bitcoin etf?</td>\n",
              "      <td>0.000000</td>\n",
              "      <td>0.000000</td>\n",
              "      <td>Neutral</td>\n",
              "    </tr>\n",
              "    <tr>\n",
              "      <th>13</th>\n",
              "      <td>#Beautiful #Colourful #unique circles of #powe...</td>\n",
              "      <td>circles of  digital art creations enjoy 🔥🔥🔥...</td>\n",
              "      <td>0.250000</td>\n",
              "      <td>0.200000</td>\n",
              "      <td>Positive</td>\n",
              "    </tr>\n",
              "    <tr>\n",
              "      <th>14</th>\n",
              "      <td>#crypto #bitcoin #ethereum #cardano #ripple #d...</td>\n",
              "      <td>bitcoin            This group pumped DREP on ...</td>\n",
              "      <td>0.000000</td>\n",
              "      <td>0.000000</td>\n",
              "      <td>Neutral</td>\n",
              "    </tr>\n",
              "    <tr>\n",
              "      <th>15</th>\n",
              "      <td>#BREAKING #BreakingNews #SEC is comprised. Now...</td>\n",
              "      <td>is comprised. Now THATS BULLISH!  Bitcoin  ...</td>\n",
              "      <td>0.000000</td>\n",
              "      <td>0.000000</td>\n",
              "      <td>Neutral</td>\n",
              "    </tr>\n",
              "    <tr>\n",
              "      <th>16</th>\n",
              "      <td>@Next100XGEMS @FEGtoken @Ste_Cha_FEG ❤🧡💛🦍❤🧡💛\\n...</td>\n",
              "      <td>Next100XGEMS FEGtoken Ste_Cha_FEG ❤🧡💛🦍❤🧡💛$FEG ...</td>\n",
              "      <td>0.000000</td>\n",
              "      <td>0.000000</td>\n",
              "      <td>Neutral</td>\n",
              "    </tr>\n",
              "    <tr>\n",
              "      <th>17</th>\n",
              "      <td>#Bitcoin goes on a 33% price increase from the...</td>\n",
              "      <td>Bitcoin goes on a 33% price increase from the ...</td>\n",
              "      <td>0.627811</td>\n",
              "      <td>0.265455</td>\n",
              "      <td>Positive</td>\n",
              "    </tr>\n",
              "    <tr>\n",
              "      <th>18</th>\n",
              "      <td>There is!🏆 I chose the lucky cell and won 85 B...</td>\n",
              "      <td>There is!🏆 I chose the lucky cell and won 85 B...</td>\n",
              "      <td>0.833333</td>\n",
              "      <td>0.416667</td>\n",
              "      <td>Positive</td>\n",
              "    </tr>\n",
              "    <tr>\n",
              "      <th>19</th>\n",
              "      <td>@ApesCharity I think this is a good project wi...</td>\n",
              "      <td>ApesCharity I think this is a good project wit...</td>\n",
              "      <td>0.427083</td>\n",
              "      <td>0.375000</td>\n",
              "      <td>Positive</td>\n",
              "    </tr>\n",
              "  </tbody>\n",
              "</table>\n",
              "</div>"
            ],
            "text/plain": [
              "                                               Tweets  ... Sentiment\n",
              "0   It's good to hear that many communities joinin...  ...  Positive\n",
              "1   .: Brazil’s First Bitcoin ETF Raises $112 Mill...  ...  Positive\n",
              "2   @xircusNFT Strong team with a great project. I...  ...  Positive\n",
              "3   $EFIR Egpi Firecreek \\n\\n💥https://t.co/laXeMyT...  ...   Neutral\n",
              "4   @open4profit Dead cat Bounce🥴 #Bitcoin https:/...  ...  Negative\n",
              "5   5 New Cryptocurrency Exchanges To Consider htt...  ...  Positive\n",
              "6   #crypto #bitcoin #ethereum #cardano #ripple #d...  ...   Neutral\n",
              "7   Gold/USD pair: Love it or hate it but does it ...  ...  Positive\n",
              "8   @Next100XGEMS @FEGtoken @Ste_Cha_FEG ❤Promisin...  ...  Positive\n",
              "9   $BTC A big chance in a billion! Price: \\445617...  ...   Neutral\n",
              "10  @Next100XGEMS @FEGtoken @Ste_Cha_FEG 💟💚💟💚💟💚💟💚💟...  ...   Neutral\n",
              "11  @TeddlyBsc I joined this Airdrop to help suppo...  ...   Neutral\n",
              "12            @GaryGensler @SECGov When #bitcoin etf?  ...   Neutral\n",
              "13  #Beautiful #Colourful #unique circles of #powe...  ...  Positive\n",
              "14  #crypto #bitcoin #ethereum #cardano #ripple #d...  ...   Neutral\n",
              "15  #BREAKING #BreakingNews #SEC is comprised. Now...  ...   Neutral\n",
              "16  @Next100XGEMS @FEGtoken @Ste_Cha_FEG ❤🧡💛🦍❤🧡💛\\n...  ...   Neutral\n",
              "17  #Bitcoin goes on a 33% price increase from the...  ...  Positive\n",
              "18  There is!🏆 I chose the lucky cell and won 85 B...  ...  Positive\n",
              "19  @ApesCharity I think this is a good project wi...  ...  Positive\n",
              "\n",
              "[20 rows x 5 columns]"
            ]
          },
          "metadata": {
            "tags": []
          },
          "execution_count": 56
        }
      ]
    },
    {
      "cell_type": "code",
      "metadata": {
        "colab": {
          "base_uri": "https://localhost:8080/",
          "height": 441
        },
        "id": "p8LM_eufeZgT",
        "outputId": "f8e9045f-aec9-4f64-bb2d-e491bf71b248"
      },
      "source": [
        "#Create a scatter plot to show the subjectivity and the polarity\n",
        "plt.figure(figsize=(8,6))\n",
        "for i in range(0, df.shape[0]):\n",
        "  plt.scatter(df['Polarity'][i], df['Subjectivity'][i], color='Blue')\n",
        "plt.title('Sentiment Analysis Scatter Plot')\n",
        "plt.xlabel('Polarity')\n",
        "plt.ylabel('Subjectivity (objective -> subjective')\n",
        "plt.show()"
      ],
      "execution_count": 62,
      "outputs": [
        {
          "output_type": "display_data",
          "data": {
            "image/png": "[encoded data removed]",
            "text/plain": [
              "<Figure size 576x432 with 1 Axes>"
            ]
          },
          "metadata": {
            "tags": []
          }
        }
      ]
    },
    {
      "cell_type": "code",
      "metadata": {
        "colab": {
          "base_uri": "https://localhost:8080/",
          "height": 374
        },
        "id": "CLEucdO7h48e",
        "outputId": "27112f5f-73ce-4d5b-80f2-0aabb850f20e"
      },
      "source": [
        "#Create a bar chart to show the count of Positive, Neutral and Negative sentiments\n",
        "df['Sentiment'].value_counts().plot(kind='bar')\n",
        "plt.title('Sentiment Analysis Bar Plot')\n",
        "plt.xlabel('Sentiment')\n",
        "plt.ylabel('Number of Tweets')\n",
        "plt.show()"
      ],
      "execution_count": 65,
      "outputs": [
        {
          "output_type": "display_data",
          "data": {
            "image/png": "[encoded data removed]",
            "text/plain": [
              "<Figure size 432x288 with 1 Axes>"
            ]
          },
          "metadata": {
            "tags": []
          }
        }
      ]
    }
  ]
}